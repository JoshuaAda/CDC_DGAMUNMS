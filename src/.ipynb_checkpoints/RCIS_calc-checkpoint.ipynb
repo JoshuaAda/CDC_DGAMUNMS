{
 "cells": [
  {
   "cell_type": "code",
   "execution_count": 3,
   "id": "bb9e16a0",
   "metadata": {
    "pycharm": {
     "is_executing": true
    }
   },
   "outputs": [],
   "source": [
    "# Essentials\n",
    "import numpy as np\n",
    "import matplotlib.pyplot as plt\n",
    "import matplotlib as mpl\n",
    "import pdb as pdb\n",
    "# Tools\n",
    "from IPython.display import clear_output\n",
    "import copy\n",
    "import sys\n",
    "import pandas as pd\n",
    "# Specialized packages\n",
    "from casadi import *\n",
    "from casadi.tools import *\n",
    "import control\n",
    "import time as time\n",
    "import os.path\n",
    "from scipy.linalg import solve_discrete_are, inv, eig, block_diag \n",
    "\n",
    "import scipy.signal as signal\n",
    "\n",
    "# For Plotting\n",
    "from matplotlib.animation import FuncAnimation, ImageMagickFileWriter\n",
    "from cycler import cycler\n",
    "import time as time\n",
    "#import ipympl\n",
    "from matplotlib.widgets import Slider, Button\n",
    "# Custom packages\n",
    "import do_mpc\n",
    "\n",
    "\n",
    "\n",
    "# Customizing Matplotlib:\n",
    "%matplotlib inline\n",
    "mpl.rcParams['font.size'] = 15\n",
    "mpl.rcParams['lines.linewidth'] = 3\n",
    "mpl.rcParams['axes.grid'] = True\n",
    "mpl.rcParams['svg.fonttype'] = 'none'\n",
    "mpl.rcParams['axes.unicode_minus'] = 'true'\n",
    "mpl.rcParams['axes.labelsize'] = 'large'\n",
    "mpl.rcParams['legend.fontsize'] = 'large'\n",
    "mpl.rcParams['xtick.labelsize'] = 'large'\n",
    "mpl.rcParams['ytick.labelsize'] = 'large'\n",
    "mpl.rcParams['axes.labelpad'] = 6\n"
   ]
  },
  {
   "cell_type": "markdown",
   "id": "6c485204",
   "metadata": {},
   "source": [
    "## Create Model"
   ]
  },
  {
   "cell_type": "code",
   "execution_count": 4,
   "id": "e4760ba4",
   "metadata": {},
   "outputs": [],
   "source": [
    "dt=1\n",
    "nx=2 # Two Species\n",
    "nu=2 #4 Ventilation rates\n",
    "nd=1 #5 Uncertainties: Lamp Temperatures and Environment temp."
   ]
  },
  {
   "cell_type": "code",
   "execution_count": 5,
   "id": "bdff3be2",
   "metadata": {},
   "outputs": [],
   "source": [
    "from nl_double_int_nmpc.template_model import template_model\n",
    "model = template_model()\n"
   ]
  },
  {
   "cell_type": "code",
   "execution_count": 6,
   "id": "2ea0f98b",
   "metadata": {},
   "outputs": [],
   "source": [
    "model._rhs['x']\n",
    "system=Function('system',[model.x,model.u,model.tvp],[model._rhs['x']])"
   ]
  },
  {
   "cell_type": "code",
   "execution_count": 7,
   "id": "9a94831c",
   "metadata": {},
   "outputs": [
    {
     "data": {
      "text/plain": [
       "SX(@1=sqrt((sq(x_0)+sq(x_1))), [(((x_0+x_1)+u_0)+(p*@1)), ((x_1+u_1)+(p*@1))])"
      ]
     },
     "execution_count": 7,
     "metadata": {},
     "output_type": "execute_result"
    }
   ],
   "source": [
    "system(model.x,model.u,model.tvp)"
   ]
  },
  {
   "cell_type": "code",
   "execution_count": 8,
   "id": "92fd6abd",
   "metadata": {},
   "outputs": [],
   "source": [
    "# state constraints\n",
    "lb_x = 0*np.ones((nx,1))\n",
    "ub_x = 10*np.ones((nx,1))\n",
    "# input constraints\n",
    "lb_u = -5*np.ones((nu,1))\n",
    "ub_u = 5*np.ones((nu,1))"
   ]
  },
  {
   "cell_type": "markdown",
   "id": "3a39cfc6",
   "metadata": {},
   "source": [
    "# Creating the Simulator"
   ]
  },
  {
   "cell_type": "code",
   "execution_count": 17,
   "id": "5b031438",
   "metadata": {},
   "outputs": [],
   "source": [
    "simulator = do_mpc.simulator.Simulator(model)\n",
    "simulator.set_param(t_step = dt)\n"
   ]
  },
  {
   "cell_type": "code",
   "execution_count": 18,
   "id": "1d56ee06",
   "metadata": {},
   "outputs": [],
   "source": [
    "p_template = simulator.get_tvp_template()"
   ]
  },
  {
   "cell_type": "code",
   "execution_count": 19,
   "id": "27dc8fbb",
   "metadata": {},
   "outputs": [
    {
     "data": {
      "text/plain": [
       "['default', 'p']"
      ]
     },
     "execution_count": 19,
     "metadata": {},
     "output_type": "execute_result"
    }
   ],
   "source": [
    "p_template.keys()\n"
   ]
  },
  {
   "cell_type": "code",
   "execution_count": 20,
   "id": "5606c3e3",
   "metadata": {},
   "outputs": [],
   "source": [
    "p0=np.array([0.255])\n",
    "p_min=np.array([0.01])\n",
    "p_max=np.array([0.5])"
   ]
  },
  {
   "cell_type": "code",
   "execution_count": 21,
   "id": "6889c648",
   "metadata": {},
   "outputs": [],
   "source": [
    "def p_fun_max(t):\n",
    "    p_template['p'] = p_max\n",
    "    return p_template"
   ]
  },
  {
   "cell_type": "code",
   "execution_count": 22,
   "id": "14ce4cf0",
   "metadata": {},
   "outputs": [],
   "source": [
    "def p_fun_0(t):\n",
    "    p_template['p'] = p0\n",
    "    return p_template"
   ]
  },
  {
   "cell_type": "code",
   "execution_count": 23,
   "id": "cb1360e0",
   "metadata": {},
   "outputs": [],
   "source": [
    "def p_fun_min(t):\n",
    "    p_template['p'] = p_min\n",
    "    return p_template"
   ]
  },
  {
   "cell_type": "code",
   "execution_count": 24,
   "id": "eaf9944e",
   "metadata": {},
   "outputs": [
    {
     "ename": "Exception",
     "evalue": "You have not supplied a function to obtain the parameters defined in model. Use .set_p_fun() prior to setup.",
     "output_type": "error",
     "traceback": [
      "\u001B[0;31m---------------------------------------------------------------------------\u001B[0m",
      "\u001B[0;31mException\u001B[0m                                 Traceback (most recent call last)",
      "\u001B[0;32m/tmp/ipykernel_463/540396927.py\u001B[0m in \u001B[0;36m<module>\u001B[0;34m\u001B[0m\n\u001B[1;32m      4\u001B[0m     \u001B[0;32mreturn\u001B[0m \u001B[0mp_template\u001B[0m\u001B[0;34m\u001B[0m\u001B[0;34m\u001B[0m\u001B[0m\n\u001B[1;32m      5\u001B[0m \u001B[0msimulator\u001B[0m\u001B[0;34m.\u001B[0m\u001B[0mset_tvp_fun\u001B[0m\u001B[0;34m(\u001B[0m\u001B[0mp_fun_var\u001B[0m\u001B[0;34m)\u001B[0m\u001B[0;34m\u001B[0m\u001B[0;34m\u001B[0m\u001B[0m\n\u001B[0;32m----> 6\u001B[0;31m \u001B[0msimulator\u001B[0m\u001B[0;34m.\u001B[0m\u001B[0msetup\u001B[0m\u001B[0;34m(\u001B[0m\u001B[0;34m)\u001B[0m\u001B[0;34m\u001B[0m\u001B[0;34m\u001B[0m\u001B[0m\n\u001B[0m",
      "\u001B[0;32m~/.virtualenvs/Embedded_cloud_controller_2/lib/python3.7/site-packages/do_mpc/simulator.py\u001B[0m in \u001B[0;36msetup\u001B[0;34m(self)\u001B[0m\n\u001B[1;32m    133\u001B[0m         \"\"\"\n\u001B[1;32m    134\u001B[0m \u001B[0;34m\u001B[0m\u001B[0m\n\u001B[0;32m--> 135\u001B[0;31m         \u001B[0mself\u001B[0m\u001B[0;34m.\u001B[0m\u001B[0m_check_validity\u001B[0m\u001B[0;34m(\u001B[0m\u001B[0;34m)\u001B[0m\u001B[0;34m\u001B[0m\u001B[0;34m\u001B[0m\u001B[0m\n\u001B[0m\u001B[1;32m    136\u001B[0m \u001B[0;34m\u001B[0m\u001B[0m\n\u001B[1;32m    137\u001B[0m         self.sim_x = sim_x =  self.model.sv.sym_struct([\n",
      "\u001B[0;32m~/.virtualenvs/Embedded_cloud_controller_2/lib/python3.7/site-packages/do_mpc/simulator.py\u001B[0m in \u001B[0;36m_check_validity\u001B[0;34m(self)\u001B[0m\n\u001B[1;32m    107\u001B[0m         \u001B[0;31m# p_fun must be set, if p are defined in model.\u001B[0m\u001B[0;34m\u001B[0m\u001B[0;34m\u001B[0m\u001B[0;34m\u001B[0m\u001B[0m\n\u001B[1;32m    108\u001B[0m         \u001B[0;32mif\u001B[0m \u001B[0mself\u001B[0m\u001B[0;34m.\u001B[0m\u001B[0mflags\u001B[0m\u001B[0;34m[\u001B[0m\u001B[0;34m'set_p_fun'\u001B[0m\u001B[0;34m]\u001B[0m \u001B[0;34m==\u001B[0m \u001B[0;32mFalse\u001B[0m \u001B[0;32mand\u001B[0m \u001B[0mself\u001B[0m\u001B[0;34m.\u001B[0m\u001B[0mmodel\u001B[0m\u001B[0;34m.\u001B[0m\u001B[0m_p\u001B[0m\u001B[0;34m.\u001B[0m\u001B[0msize\u001B[0m \u001B[0;34m>\u001B[0m \u001B[0;36m0\u001B[0m\u001B[0;34m:\u001B[0m\u001B[0;34m\u001B[0m\u001B[0;34m\u001B[0m\u001B[0m\n\u001B[0;32m--> 109\u001B[0;31m             \u001B[0;32mraise\u001B[0m \u001B[0mException\u001B[0m\u001B[0;34m(\u001B[0m\u001B[0;34m'You have not supplied a function to obtain the parameters defined in model. Use .set_p_fun() prior to setup.'\u001B[0m\u001B[0;34m)\u001B[0m\u001B[0;34m\u001B[0m\u001B[0;34m\u001B[0m\u001B[0m\n\u001B[0m\u001B[1;32m    110\u001B[0m \u001B[0;34m\u001B[0m\u001B[0m\n\u001B[1;32m    111\u001B[0m         \u001B[0;31m# Set dummy functions for tvp and p in case these parameters are unused.\u001B[0m\u001B[0;34m\u001B[0m\u001B[0;34m\u001B[0m\u001B[0;34m\u001B[0m\u001B[0m\n",
      "\u001B[0;31mException\u001B[0m: You have not supplied a function to obtain the parameters defined in model. Use .set_p_fun() prior to setup."
     ]
    }
   ],
   "source": [
    "\n",
    "\n",
    "def p_fun_var(t):\n",
    "    np.random.seed(1234+int(t))\n",
    "    p_template['p'] = np.random.uniform(p_min,p_max)\n",
    "    return p_template\n",
    "simulator.set_tvp_fun(p_fun_var)\n",
    "simulator.setup()"
   ]
  },
  {
   "cell_type": "code",
   "execution_count": 44,
   "id": "d8e19929",
   "metadata": {},
   "outputs": [
    {
     "data": {
      "text/plain": [
       "DM(0.224495)"
      ]
     },
     "execution_count": 44,
     "metadata": {},
     "output_type": "execute_result"
    }
   ],
   "source": [
    "p_fun_var(120)['p']"
   ]
  },
  {
   "cell_type": "code",
   "execution_count": 45,
   "id": "e9e011a7",
   "metadata": {},
   "outputs": [],
   "source": [
    "simulator.set_tvp_fun(p_fun_var)\n",
    "simulator.setup()"
   ]
  },
  {
   "cell_type": "code",
   "execution_count": 46,
   "id": "7feeddc3",
   "metadata": {},
   "outputs": [],
   "source": [
    "simulator.reset_history()\n",
    "x0=1*np.ones((nx,1))\n",
    "u0=0*np.ones((nu,1))\n",
    "simulator.x0=1*np.ones((nx,1))\n",
    "for i in range(500):\n",
    "    x0=simulator.make_step(u0)"
   ]
  },
  {
   "cell_type": "code",
   "execution_count": 47,
   "id": "b15ea276",
   "metadata": {},
   "outputs": [
    {
     "data": {
      "text/plain": [
       "Text(0.5, 0, 'time [-]')"
      ]
     },
     "execution_count": 47,
     "metadata": {},
     "output_type": "execute_result"
    },
    {
     "data": {
      "application/vnd.jupyter.widget-view+json": {
       "model_id": "89d9a37c9a5d48aca5fba4a8b186bc09",
       "version_major": 2,
       "version_minor": 0
      },
      "image/png": "[encoded data removed]",
      "text/html": [
       "\n",
       "            <div style=\"display: inline-block;\">\n",
       "                <div class=\"jupyter-widgets widget-label\" style=\"text-align: center;\">\n",
       "                    Figure\n",
       "                </div>\n",
       "                <img src='data:image/png;base64,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' width=640.0/>\n",
       "            </div>\n",
       "        "
      ],
      "text/plain": [
       "Canvas(toolbar=Toolbar(toolitems=[('Home', 'Reset original view', 'home', 'home'), ('Back', 'Back to previous …"
      ]
     },
     "metadata": {},
     "output_type": "display_data"
    }
   ],
   "source": [
    "fig, ax = plt.subplots(4,1, sharex=True)\n",
    "\n",
    "# plot the states\n",
    "ax[0].plot(simulator.data['_time'],simulator.data['_x'])\n",
    "#ax[0].axhline(y=lb_x[0],linestyle='--',color='red')\n",
    "#ax[0].axhline(y=ub_x[0],linestyle='--',color='red')\n",
    "ax[1].plot(simulator.data['_time'],simulator.data['_u'])\n",
    "ax[2].step(simulator.data['_time'],simulator.data['_tvp'])\n",
    "\n",
    "# Set labels\n",
    "ax[0].set_ylabel('state')\n",
    "ax[1].set_ylabel('inputs')\n",
    "ax[2].set_ylabel('uncertainties')\n",
    "ax[3].set_xlabel('time [-]')"
   ]
  },
  {
   "cell_type": "code",
   "execution_count": 48,
   "id": "137db425",
   "metadata": {},
   "outputs": [],
   "source": [
    "def get_p_shape(p_min,p_max,x0_min,x0_max,u0,gs):\n",
    "    p=[]\n",
    "    x_next_list=[]\n",
    "    for j in range(gs**(nx+nd)):\n",
    "        p0=np.zeros((nd,1))\n",
    "        x0=np.zeros((nx,1))\n",
    "        for d in range(nd):\n",
    "            p0[d]=(p_min[d]+(p_max[d]-p_min[d])*((j//(gs**d))%(nd+nx))/(gs-1)).squeeze()\n",
    "        for i in range(nx):\n",
    "            x0[i]=(x0_min[i]+(x0_max[i]-x0_min[i])*((j//(gs**(nd+i)))%(nd+nx))/(gs-1)).squeeze()\n",
    "        #print(p0,x0)\n",
    "        x_next=system(x0,u0,p0)\n",
    "        x_next_list.append(x_next)\n",
    "        p.append(p0)\n",
    "    \n",
    "    return p,x_next_list"
   ]
  },
  {
   "cell_type": "markdown",
   "id": "bc0dc201",
   "metadata": {},
   "source": [
    "## Looking at the Uncertainty"
   ]
  },
  {
   "cell_type": "code",
   "execution_count": 49,
   "id": "31f63a6c",
   "metadata": {},
   "outputs": [],
   "source": [
    "from scipy.spatial import ConvexHull, convex_hull_plot_2d"
   ]
  },
  {
   "cell_type": "code",
   "execution_count": 51,
   "id": "fdf2216d",
   "metadata": {},
   "outputs": [],
   "source": [
    "def get_xnext(x,u,p):\n",
    "    return np.array([system(x,u,p)]).reshape(nx,1)"
   ]
  },
  {
   "cell_type": "code",
   "execution_count": 54,
   "id": "2e86ee95",
   "metadata": {},
   "outputs": [],
   "source": [
    "%matplotlib inline"
   ]
  },
  {
   "cell_type": "code",
   "execution_count": 55,
   "id": "605ce08b",
   "metadata": {},
   "outputs": [
    {
     "data": {
      "image/png": "[encoded data removed]",
      "text/plain": [
       "<Figure size 800x600 with 1 Axes>"
      ]
     },
     "metadata": {},
     "output_type": "display_data"
    }
   ],
   "source": [
    "x0_min=np.array([[0.0,0.5]]).T\n",
    "x0_max=np.array([[0.5,1]]).T\n",
    "u0=np.array([[0,0]]).T\n",
    "x_min=get_xnext(x0_min,u0,p_min)\n",
    "x_max=get_xnext(x0_max,u0,p_max)\n",
    "p_test,x_next_list=get_p_shape(p_min,p_max,x0_min,x0_max,u0,3)\n",
    "x_next_cord=np.concatenate(x_next_list,axis=0).reshape(-1,2)\n",
    "hull=ConvexHull(x_next_cord)\n",
    "#p_hull,x_next_hull=get_p_hull(p_min,p_max,x0,u0,10)\n",
    "#x_next_hull_c=np.concatenate(x_next_hull,axis=0).reshape(-1,2)\n",
    "fig,ax =plt.subplots(1,1,figsize=(8,6))\n",
    "#ax.plot(295.5,294.5,'ro',label='set_point')\n",
    "#convex_hull_plot_2d(hull, ax=ax)\n",
    "ax.plot(x_next_cord[np.append(hull.vertices,hull.vertices[0]),0], x_next_cord[np.append(hull.vertices,hull.vertices[0]),1], 'ro--', lw=1)\n",
    "ax.plot(x0[0],x0[1],'kx',label='x_0')\n",
    "ax.add_patch(mpl.patches.Rectangle(lb_x, ub_x[0]-lb_x[0],ub_x[1]-lb_x[0], color=\"None\",ec='blue'))\n",
    "line = ax.add_patch(mpl.patches.Rectangle(x_min, x_max[0]-x_min[0],x_max[1]-x_min[1], color=\"None\",ec='blue',hatch='/'))\n",
    "ini_rect= ax.add_patch(mpl.patches.Rectangle(x0_min, x0_max[0]-x0_min[0],x0_max[1]-x0_min[1], color=\"None\",ec='gray'))\n",
    "ax.plot(x_next_cord[:,0], x_next_cord[:,1], 'ko',markersize=2, lw=1)\n",
    "ax.set_xlim([lb_x[0]-0.2,ub_x[0]+0.2])\n",
    "ax.set_ylim([lb_x[1]-0.2,ub_x[1]+0.2])\n",
    "plt.show()"
   ]
  },
  {
   "cell_type": "code",
   "execution_count": 56,
   "id": "4d243f51",
   "metadata": {},
   "outputs": [],
   "source": [
    "%matplotlib widget"
   ]
  },
  {
   "cell_type": "code",
   "execution_count": 58,
   "id": "84a2b096",
   "metadata": {},
   "outputs": [
    {
     "data": {
      "application/vnd.jupyter.widget-view+json": {
       "model_id": "16946eb5360e4418a9a68357b1c680a7",
       "version_major": 2,
       "version_minor": 0
      },
      "image/png": "[encoded data removed]",
      "text/html": [
       "\n",
       "            <div style=\"display: inline-block;\">\n",
       "                <div class=\"jupyter-widgets widget-label\" style=\"text-align: center;\">\n",
       "                    Figure\n",
       "                </div>\n",
       "                <img src='data:image/png;base64,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' width=640.0/>\n",
       "            </div>\n",
       "        "
      ],
      "text/plain": [
       "Canvas(toolbar=Toolbar(toolitems=[('Home', 'Reset original view', 'home', 'home'), ('Back', 'Back to previous …"
      ]
     },
     "metadata": {},
     "output_type": "display_data"
    }
   ],
   "source": [
    "x0_min=np.array([[0.0,0.5]]).T\n",
    "x0_max=np.array([[0.5,0.8]]).T\n",
    "u0=np.array([[0.1,0.1]]).T\n",
    "x_min=get_xnext(x0_min,u0,p_min)\n",
    "x_max=get_xnext(x0_max,u0,p_max)\n",
    "p_test,x_next_list=get_p_shape(p_min,p_max,x0_min,x0_max,u0,3)\n",
    "x_next_cord=np.concatenate(x_next_list,axis=0).reshape(-1,2)\n",
    "#hull=ConvexHull(x_next_cord)\n",
    "fig,ax =plt.subplots(1,1)\n",
    "#ax.plot(295.5,294.5,'ro',label='set_point')\n",
    "ax.add_patch(mpl.patches.Rectangle(x0_min, x0_max[0]-x0_min[0],x0_max[1]-x0_min[1], color=\"None\",ec='grey',hatch='x'))\n",
    "#ax.add_patch(mpl.patches.Rectangle(lb_x, ub_x[0]-lb_x[0],ub_x[1]-lb_x[0], color=\"None\",ec='red'))\n",
    "line = ax.add_patch(mpl.patches.Rectangle(x_min, x_max[0]-x_min[0],x_max[1]-x_min[1], color=\"None\",ec='green',hatch='/'))\n",
    "points=ax.plot(x_next_cord[:,0],x_next_cord[:,1],'ko',markersize=2)\n",
    "#uncert_hull=ax.plot(x_next_cord[np.append(hull.vertices,hull.vertices[0]),0], x_next_cord[np.append(hull.vertices,hull.vertices[0]),1], 'ro--', lw=1)\n",
    "plt.subplots_adjust(left=0.25, bottom=0.25)\n",
    "\n",
    "# Make a horizontal slider to control the frequency.\n",
    "axfreq = plt.axes([0.25, 0.1, 0.65, 0.03])\n",
    "freq_slider = Slider(\n",
    "    ax=axfreq,\n",
    "    label='u0',\n",
    "    valmin=-5,\n",
    "    valmax=5,\n",
    "    valinit=0,\n",
    ")\n",
    "\n",
    "# Make a vertically oriented slider to control the amplitude\n",
    "axamp = plt.axes([0.1, 0.25, 0.0225, 0.63])\n",
    "amp_slider = Slider(\n",
    "    ax=axamp,\n",
    "    label=\"u1\",\n",
    "    valmin=-5,\n",
    "    valmax=5,\n",
    "    valinit=0,\n",
    "    orientation=\"vertical\"\n",
    ")\n",
    "\n",
    "\n",
    "# The function to be called anytime a slider's value changes\n",
    "def update(val):\n",
    "    x_min=get_xnext(x0_min,np.array([[freq_slider.val,amp_slider.val]]).T,p_min)\n",
    "    x_max=get_xnext(x0_max,np.array([[freq_slider.val,amp_slider.val]]).T,p_max)\n",
    "    line.set(xy=x_min, width=x_max[0]-x_min[0],height=x_max[1]-x_min[1])\n",
    "    p_test,x_next_list=get_p_shape(p_min,p_max,x0_min,x0_max,np.array([[freq_slider.val,amp_slider.val]]).T,3)\n",
    "    x_next_cord=np.concatenate(x_next_list,axis=0).reshape(-1,2)\n",
    "    points[0].set(xdata=x_next_cord[:,0],ydata=x_next_cord[:,1])\n",
    "    ax.relim()\n",
    "    ax.autoscale()\n",
    "    fig.canvas.draw_idle()\n",
    "\n",
    "\n",
    "# register the update function with each slider\n",
    "freq_slider.on_changed(update)\n",
    "amp_slider.on_changed(update)\n",
    "\n",
    "# Create a `matplotlib.widgets.Button` to reset the sliders to initial values.\n",
    "resetax = plt.axes([0.8, 0.025, 0.1, 0.04])\n",
    "button = Button(resetax, 'Reset', hovercolor='0.975')\n",
    "\n",
    "\n",
    "def reset(event):\n",
    "    freq_slider.reset()\n",
    "    amp_slider.reset()\n",
    "button.on_clicked(reset)\n",
    "\n",
    "plt.show()"
   ]
  },
  {
   "cell_type": "markdown",
   "id": "87ab6d7e",
   "metadata": {},
   "source": [
    "## Computation of a Robust invariant control set"
   ]
  },
  {
   "cell_type": "markdown",
   "id": "ba08f5db",
   "metadata": {},
   "source": [
    "### Biggest Set"
   ]
  },
  {
   "cell_type": "code",
   "execution_count": 59,
   "id": "cc64455d",
   "metadata": {},
   "outputs": [],
   "source": [
    "x_ref=SX.sym('x_ref',nx,1)\n",
    "p_plus=SX.sym('p_plus',nd,1)\n",
    "p_minus=SX.sym('p_minus',nd,1)"
   ]
  },
  {
   "cell_type": "code",
   "execution_count": 65,
   "id": "d49b3979",
   "metadata": {},
   "outputs": [
    {
     "name": "stdout",
     "output_type": "stream",
     "text": [
      "25\n"
     ]
    }
   ],
   "source": [
    "cuts=np.zeros((nx,1))\n",
    "\n",
    "cuts[0]=4\n",
    "cuts[1]=4\n",
    "\n",
    "ordering_dimension=[0,1]\n",
    "\n",
    "ns=1\n",
    "for i in range(nx):\n",
    "    ns*=(cuts[i]+1)\n",
    "ns=int(ns[0])\n",
    "print(ns)\n"
   ]
  },
  {
   "cell_type": "code",
   "execution_count": 66,
   "id": "28f9b85a",
   "metadata": {},
   "outputs": [],
   "source": [
    "lis=[]\n",
    "count=0\n",
    "for i in range(int(cuts[ordering_dimension[0]]+1)):\n",
    "    sublis=[]\n",
    "    for j in range(int(cuts[ordering_dimension[1]]+1)):\n",
    "        sublis.append(count)\n",
    "        count+=1\n",
    "    lis.append(sublis)\n",
    "\n"
   ]
  },
  {
   "cell_type": "code",
   "execution_count": 67,
   "id": "0eb3fd9a",
   "metadata": {},
   "outputs": [
    {
     "name": "stdout",
     "output_type": "stream",
     "text": [
      "[[0, 1, 2, 3, 4], [5, 6, 7, 8, 9], [10, 11, 12, 13, 14], [15, 16, 17, 18, 19], [20, 21, 22, 23, 24]]\n"
     ]
    }
   ],
   "source": [
    "print(lis)"
   ]
  },
  {
   "cell_type": "code",
   "execution_count": 68,
   "id": "50e80b77",
   "metadata": {},
   "outputs": [],
   "source": [
    "opt_x = struct_symSX([\n",
    "    entry('x_min', shape=nx ,repeat=[ns]),\n",
    "    entry('x_max', shape=nx, repeat=[ns]),\n",
    "    entry('u', shape=nu, repeat=[ns])\n",
    "])"
   ]
  },
  {
   "cell_type": "code",
   "execution_count": 69,
   "id": "98bcd114",
   "metadata": {},
   "outputs": [],
   "source": [
    "lb_opt_x = opt_x(0)\n",
    "ub_opt_x = opt_x(np.inf)"
   ]
  },
  {
   "cell_type": "code",
   "execution_count": 70,
   "id": "e88c62a8",
   "metadata": {},
   "outputs": [],
   "source": [
    "lb_opt_x['x_min'] = lb_x\n",
    "lb_opt_x['x_max'] = lb_x\n",
    "ub_opt_x['x_min'] = ub_x\n",
    "ub_opt_x['x_max'] = ub_x\n",
    "\n",
    "lb_opt_x['u'] = lb_u\n",
    "ub_opt_x['u'] = ub_u"
   ]
  },
  {
   "cell_type": "code",
   "execution_count": 71,
   "id": "fdc7aae1",
   "metadata": {},
   "outputs": [],
   "source": [
    "# These functions are used in a recursive algorithm to create the constraints for the cuts\n",
    "def flatten(xs):\n",
    "    if isinstance(xs, list):\n",
    "        res = []\n",
    "        def loop(ys):\n",
    "            for i in ys:\n",
    "                if isinstance(i, list):\n",
    "                    loop(i)\n",
    "                else:\n",
    "                    res.append(i)\n",
    "        loop(xs)\n",
    "    else:\n",
    "        res=[xs]\n",
    "    return res\n",
    "\n",
    "def depth(l):\n",
    "    if isinstance(l, list):\n",
    "        return 1 + max(depth(item) for item in l) if l else 1\n",
    "    else:\n",
    "        return 0\n",
    "\n",
    "\n",
    "\n",
    "# Functions to get the index from a vector containing the index of each cut in the respective dimension\n",
    "def from_count_get_s(count, cuts):\n",
    "    assert len(cuts)==len(count)\n",
    "    s=0\n",
    "    remainder=ns\n",
    "    for l in ordering_dimension:\n",
    "        remainder/=(cuts[l]+1)\n",
    "        s+=remainder*count[l]\n",
    "    return int(s)\n",
    "# And the oter way around\n",
    "def from_s_get_count(idx, cuts):\n",
    "    count=np.zeros((nx,1))\n",
    "    remainder=ns\n",
    "    rest=idx\n",
    "    for l in ordering_dimension:\n",
    "        if cuts[l]>0:\n",
    "            remainder/=(cuts[l]+1)\n",
    "            count[l]=rest//remainder\n",
    "            rest-=remainder*count[l]\n",
    "    return count\n",
    "# Recursive function to set up the equality constraints defining the cuts\n",
    "\n",
    "def constraint_function_RCIS(l,ord_dim,opt_x,h,lbg,ubg):\n",
    "    for k in range(len(l)):\n",
    "        idx=flatten(l[k])\n",
    "        dim=ord_dim[-depth(l)]\n",
    "        for s in idx:\n",
    "            if s==idx[0] and k==0:\n",
    "                h.append(opt_x['x_min',s,dim]-opt_x['x_min',0,dim])\n",
    "                lbg.append(0)\n",
    "                ubg.append(0)\n",
    "            else:\n",
    "                h.append(opt_x['x_min',s,dim]-opt_x['x_min',idx[0],dim])\n",
    "                #print(opt_x['alpha',i,s,d_min]-opt_x['alpha',i,idx[0],d_min])\n",
    "                lbg.append(0)\n",
    "                ubg.append(0)\n",
    "            if s==idx[-1] and k==len(l)-1:###????\n",
    "                h.append(opt_x['x_max',s,dim]-opt_x['x_max',-1,dim])\n",
    "                #print(opt_x['alpha',i,s,d_max]-opt_x['alpha',i,-1,d_max])\n",
    "                lbg.append(0)\n",
    "                ubg.append(0)\n",
    "            else:\n",
    "                h.append(opt_x['x_max',s,dim]-opt_x['x_max',idx[-1],dim])\n",
    "                #print(opt_x['alpha',i,s,d_max]-opt_x['alpha',i,idx[-1],d_max])\n",
    "                lbg.append(0)\n",
    "                ubg.append(0)\n",
    "        if k>=1:\n",
    "            prev_last=flatten(l[k-1])[-1]\n",
    "            h.append(opt_x['x_min',idx[0],dim]-opt_x['x_max',prev_last,dim])\n",
    "            #print(opt_x['alpha',i,idx[0],d_min]+opt_x['alpha',i,prev_last,d_max])\n",
    "            lbg.append(0)\n",
    "            ubg.append(0)\n",
    "        if depth(l) >1:\n",
    "            h,lbg,ubg=constraint_function_RCIS(l[k],ord_dim,opt_x,h,lbg,ubg)\n",
    "    \n",
    "    return h,lbg,ubg"
   ]
  },
  {
   "cell_type": "code",
   "execution_count": 72,
   "id": "31659eb8",
   "metadata": {},
   "outputs": [],
   "source": [
    "J=0\n",
    "g=[]\n",
    "lb_g=[]\n",
    "ub_g=[]\n",
    "\n",
    "\n",
    "for s in range(ns):\n",
    "    x_next_plus = system(opt_x['x_max',s], opt_x['u',s],p_plus)\n",
    "    x_next_minus = system(opt_x['x_min',s], opt_x['u',s],p_minus)\n",
    "    g.append(opt_x['x_max',-1]-x_next_plus)\n",
    "    g.append(x_next_minus - opt_x['x_min', 0])\n",
    "    lb_g.append(np.zeros((2*nx,1)))\n",
    "    ub_g.append(inf*np.ones((2*nx,1)))\n",
    "# Cutting for RCIS\n",
    "g,lb_g,ub_g=constraint_function_RCIS(lis,ordering_dimension,opt_x,g,lb_g,ub_g)\n",
    "for s in range(ns):\n",
    "    g.append(opt_x['x_max',s]-opt_x['x_min',0])\n",
    "    g.append(opt_x['x_max',-1]-opt_x['x_min',s])\n",
    "    g.append(opt_x['x_min',s]-opt_x['x_min',0])\n",
    "    g.append(opt_x['x_max',-1]-opt_x['x_max',s])\n",
    "    lb_g.append(np.zeros((4*nx,1)))\n",
    "    ub_g.append(np.ones((4*nx,1))*inf)\n",
    "\n",
    "\n",
    "#g.append(x_ref-opt_x['x_min',0])\n",
    "#g.append(-x_ref+opt_x['x_max',1])\n",
    "#lb_g.append(np.zeros((2*nx,1)))\n",
    "#ub_g.append(np.ones((2*nx,1))*inf)\n",
    "\n",
    "J=-1\n",
    "for i in range(nx):\n",
    "    J=J*(opt_x['x_max',-1,i]-opt_x['x_min',0,i])\n",
    "\n",
    "\n",
    "g = vertcat(*g)\n",
    "lb_g = vertcat(*lb_g)\n",
    "ub_g = vertcat(*ub_g)\n",
    "\n",
    "prob = {'f':J,'x':vertcat(opt_x),'g':g, 'p':vertcat(x_ref,p_plus,p_minus)}\n",
    "solver_mx_inv_set = nlpsol('solver','ipopt',prob)"
   ]
  },
  {
   "cell_type": "code",
   "execution_count": 73,
   "id": "5e33cd12",
   "metadata": {
    "scrolled": true
   },
   "outputs": [
    {
     "name": "stdout",
     "output_type": "stream",
     "text": [
      "\n",
      "******************************************************************************\n",
      "This program contains Ipopt, a library for large-scale nonlinear optimization.\n",
      " Ipopt is released as open source code under the Eclipse Public License (EPL).\n",
      "         For more information visit https://github.com/coin-or/Ipopt\n",
      "******************************************************************************\n",
      "\n",
      "This is Ipopt version 3.14.4, running with linear solver MUMPS 5.4.1.\n",
      "\n",
      "Number of nonzeros in equality constraint Jacobian...:      144\n",
      "Number of nonzeros in inequality constraint Jacobian.:      788\n",
      "Number of nonzeros in Lagrangian Hessian.............:      152\n",
      "\n",
      "Total number of variables............................:      150\n",
      "                     variables with only lower bounds:        0\n",
      "                variables with lower and upper bounds:      150\n",
      "                     variables with only upper bounds:        0\n",
      "Total number of equality constraints.................:      124\n",
      "Total number of inequality constraints...............:      300\n",
      "        inequality constraints with only lower bounds:      300\n",
      "   inequality constraints with lower and upper bounds:        0\n",
      "        inequality constraints with only upper bounds:        0\n",
      "\n",
      "iter    objective    inf_pr   inf_du lg(mu)  ||d||  lg(rg) alpha_du alpha_pr  ls\n",
      "   0 -0.0000000e+00 1.71e-01 1.00e+00  -1.0 0.00e+00    -  0.00e+00 0.00e+00   0\n",
      "   1 -5.3668977e-03 8.16e-02 3.53e+00  -1.0 3.45e-01    -  9.36e-02 3.67e-01f  1\n",
      "   2 -1.5608204e-02 9.12e-02 3.02e+00  -1.0 2.91e-01    -  3.61e-01 2.00e-01f  1\n",
      "   3 -7.2663606e-02 5.16e-02 1.96e+00  -1.0 6.78e-01    -  3.62e-01 3.47e-01f  1\n",
      "   4 -7.4030224e-01 1.85e-07 1.74e+01  -1.0 1.04e+00    -  4.14e-01 9.90e-01f  1\n",
      "   5 -3.4187842e+00 1.67e-05 9.03e+02  -1.0 1.64e+00    -  7.00e-01 1.00e+00f  1\n",
      "   6 -9.2538984e+00 1.39e-05 4.20e+02  -1.0 6.79e+00    -  3.86e-01 2.81e-01f  1\n",
      "   7 -9.4155354e+00 1.34e-05 2.07e+03  -1.0 9.76e-01    -  8.63e-01 8.74e-02H  1\n",
      "   8 -9.8387994e+00 6.13e-06 1.70e-01  -1.0 7.36e-01    -  1.00e+00 1.00e+00H  1\n",
      "   9 -9.9020088e+00 1.27e-06 7.47e-03  -1.7 3.88e-02    -  1.00e+00 1.00e+00h  1\n",
      "iter    objective    inf_pr   inf_du lg(mu)  ||d||  lg(rg) alpha_du alpha_pr  ls\n",
      "  10 -1.0141602e+01 5.38e-09 6.70e-01  -3.8 9.83e-02    -  8.74e-01 1.00e+00f  1\n",
      "  11 -1.0269354e+01 2.01e-05 1.17e+00  -3.8 9.41e-02    -  8.27e-01 1.00e+00f  1\n",
      "  12 -1.0283691e+01 6.42e-09 3.55e+00  -3.8 6.07e-01    -  5.10e-01 1.00e+00h  1\n",
      "  13 -1.0285745e+01 6.41e-09 1.79e-06  -3.8 1.79e-01    -  1.00e+00 1.00e+00h  1\n",
      "  14 -1.0291893e+01 1.80e-09 1.01e+00  -5.7 3.94e-01    -  7.68e-01 7.30e-01h  1\n",
      "  15 -1.0292974e+01 2.10e-05 2.71e+00  -5.7 7.69e-02    -  7.78e-01 6.84e-01h  1\n",
      "  16 -1.0293290e+01 2.72e-05 6.00e+00  -5.7 2.06e-01    -  6.26e-01 8.90e-01h  1\n",
      "  17 -1.0293576e+01 4.86e-09 1.49e+01  -5.7 8.69e-01    -  5.41e-01 1.00e+00f  1\n",
      "  18 -1.0293592e+01 4.88e-09 2.35e-08  -5.7 9.77e-02    -  1.00e+00 1.00e+00h  1\n",
      "  19 -1.0293591e+01 4.86e-09 4.89e-10  -5.7 3.54e-02    -  1.00e+00 1.00e+00h  1\n",
      "iter    objective    inf_pr   inf_du lg(mu)  ||d||  lg(rg) alpha_du alpha_pr  ls\n",
      "  20 -1.0293700e+01 5.27e-09 8.93e+00  -8.6 3.00e-01    -  8.10e-01 7.47e-01h  1\n",
      "  21 -1.0293713e+01 1.94e-05 3.89e+01  -8.6 5.99e-02    -  7.86e-01 5.24e-01h  1\n",
      "  22 -1.0293720e+01 6.37e-05 1.22e+01  -8.6 2.94e-01    -  4.40e-01 6.81e-01h  1\n",
      "  23 -1.0293725e+01 9.10e-06 6.16e+01  -8.6 7.33e-01    -  3.39e-01 7.17e-01h  1\n",
      "  24 -1.0293726e+01 9.93e-04 5.82e+01  -8.6 1.70e-01    -  9.65e-01 5.38e-01h  1\n",
      "  25 -1.0293726e+01 5.00e-09 6.55e-09  -8.6 4.27e-02    -  1.00e+00 1.00e+00h  1\n",
      "\n",
      "Number of Iterations....: 25\n",
      "\n",
      "                                   (scaled)                 (unscaled)\n",
      "Objective...............:  -1.0293726212084266e+01   -1.0293726212084266e+01\n",
      "Dual infeasibility......:   6.5462227020405117e-09    6.5462227020405117e-09\n",
      "Constraint violation....:   4.9998019058250520e-09    4.9998019058250520e-09\n",
      "Variable bound violation:   4.9391428724732123e-08    4.9391428724732123e-08\n",
      "Complementarity.........:   4.4242748798704287e-09    4.4242748798704287e-09\n",
      "Overall NLP error.......:   4.9998019058250520e-09    6.5462227020405117e-09\n",
      "\n",
      "\n",
      "Number of objective function evaluations             = 28\n",
      "Number of objective gradient evaluations             = 26\n",
      "Number of equality constraint evaluations            = 28\n",
      "Number of inequality constraint evaluations          = 28\n",
      "Number of equality constraint Jacobian evaluations   = 26\n",
      "Number of inequality constraint Jacobian evaluations = 26\n",
      "Number of Lagrangian Hessian evaluations             = 25\n",
      "Total seconds in IPOPT                               = 0.072\n",
      "\n",
      "EXIT: Optimal Solution Found.\n",
      "      solver  :   t_proc      (avg)   t_wall      (avg)    n_eval\n",
      "       nlp_f  |        0 (       0)  33.00us (  1.18us)        28\n",
      "       nlp_g  |        0 (       0) 203.00us (  7.25us)        28\n",
      "    nlp_grad  |        0 (       0)  13.00us ( 13.00us)         1\n",
      "  nlp_grad_f  |        0 (       0)  46.00us (  1.70us)        27\n",
      "  nlp_hess_l  |        0 (       0) 132.00us (  5.28us)        25\n",
      "   nlp_jac_g  |   2.00ms ( 74.07us) 248.00us (  9.19us)        27\n",
      "       total  |  71.00ms ( 71.00ms)  72.15ms ( 72.15ms)         1\n"
     ]
    }
   ],
   "source": [
    "x_set=np.array([[0.1,0.1]]).T\n",
    "opt_ro_initial=opt_x(0)\n",
    "opt_ro_initial['x_min']=x_set\n",
    "opt_ro_initial['x_max']=x_set\n",
    "results=solver_mx_inv_set(p=vertcat(x_set,p_max,p_min),x0=opt_ro_initial, lbg=lb_g,ubg=ub_g,lbx=lb_opt_x,ubx=ub_opt_x)"
   ]
  },
  {
   "cell_type": "code",
   "execution_count": 74,
   "id": "fc95c897",
   "metadata": {},
   "outputs": [],
   "source": [
    "res=opt_x(results['x'])"
   ]
  },
  {
   "cell_type": "code",
   "execution_count": 78,
   "id": "7baf1ea0",
   "metadata": {},
   "outputs": [
    {
     "name": "stdout",
     "output_type": "stream",
     "text": [
      "[-1.0426e-09, -3.40404e-09]\n",
      "[3.88688, 2.64833]\n"
     ]
    }
   ],
   "source": [
    "print(res['x_min',0])\n",
    "print(res['x_max',-1])\n"
   ]
  },
  {
   "cell_type": "code",
   "execution_count": 79,
   "id": "ea2543bc",
   "metadata": {},
   "outputs": [],
   "source": [
    "%matplotlib inline"
   ]
  },
  {
   "cell_type": "code",
   "execution_count": 1,
   "id": "afd4c18d",
   "metadata": {},
   "outputs": [
    {
     "ename": "NameError",
     "evalue": "name 'plt' is not defined",
     "output_type": "error",
     "traceback": [
      "\u001B[0;31m---------------------------------------------------------------------------\u001B[0m",
      "\u001B[0;31mNameError\u001B[0m                                 Traceback (most recent call last)",
      "\u001B[0;32m/tmp/ipykernel_463/251632555.py\u001B[0m in \u001B[0;36m<module>\u001B[0;34m\u001B[0m\n\u001B[0;32m----> 1\u001B[0;31m \u001B[0mfig\u001B[0m\u001B[0;34m,\u001B[0m\u001B[0max\u001B[0m\u001B[0;34m=\u001B[0m\u001B[0mplt\u001B[0m\u001B[0;34m.\u001B[0m\u001B[0msubplots\u001B[0m\u001B[0;34m(\u001B[0m\u001B[0;36m1\u001B[0m\u001B[0;34m,\u001B[0m\u001B[0;36m1\u001B[0m\u001B[0;34m)\u001B[0m\u001B[0;34m\u001B[0m\u001B[0;34m\u001B[0m\u001B[0m\n\u001B[0m\u001B[1;32m      2\u001B[0m \u001B[0;32mfor\u001B[0m \u001B[0ms\u001B[0m \u001B[0;32min\u001B[0m \u001B[0mrange\u001B[0m\u001B[0;34m(\u001B[0m\u001B[0mns\u001B[0m\u001B[0;34m)\u001B[0m\u001B[0;34m:\u001B[0m\u001B[0;34m\u001B[0m\u001B[0;34m\u001B[0m\u001B[0m\n\u001B[1;32m      3\u001B[0m     \u001B[0mx_min_min\u001B[0m\u001B[0;34m=\u001B[0m\u001B[0msystem\u001B[0m\u001B[0;34m(\u001B[0m\u001B[0mres\u001B[0m\u001B[0;34m[\u001B[0m\u001B[0;34m'x_min'\u001B[0m\u001B[0;34m,\u001B[0m\u001B[0ms\u001B[0m\u001B[0;34m]\u001B[0m\u001B[0;34m,\u001B[0m\u001B[0mres\u001B[0m\u001B[0;34m[\u001B[0m\u001B[0;34m'u'\u001B[0m\u001B[0;34m,\u001B[0m\u001B[0ms\u001B[0m\u001B[0;34m]\u001B[0m\u001B[0;34m,\u001B[0m\u001B[0mp_min\u001B[0m\u001B[0;34m)\u001B[0m\u001B[0;34m\u001B[0m\u001B[0;34m\u001B[0m\u001B[0m\n\u001B[1;32m      4\u001B[0m     \u001B[0mx_min_max\u001B[0m\u001B[0;34m=\u001B[0m\u001B[0msystem\u001B[0m\u001B[0;34m(\u001B[0m\u001B[0mres\u001B[0m\u001B[0;34m[\u001B[0m\u001B[0;34m'x_min'\u001B[0m\u001B[0;34m,\u001B[0m\u001B[0ms\u001B[0m\u001B[0;34m]\u001B[0m\u001B[0;34m,\u001B[0m\u001B[0mres\u001B[0m\u001B[0;34m[\u001B[0m\u001B[0;34m'u'\u001B[0m\u001B[0;34m,\u001B[0m\u001B[0ms\u001B[0m\u001B[0;34m]\u001B[0m\u001B[0;34m,\u001B[0m\u001B[0mp_max\u001B[0m\u001B[0;34m)\u001B[0m\u001B[0;34m\u001B[0m\u001B[0;34m\u001B[0m\u001B[0m\n\u001B[1;32m      5\u001B[0m     \u001B[0mx_max_min\u001B[0m\u001B[0;34m=\u001B[0m\u001B[0msystem\u001B[0m\u001B[0;34m(\u001B[0m\u001B[0mres\u001B[0m\u001B[0;34m[\u001B[0m\u001B[0;34m'x_max'\u001B[0m\u001B[0;34m,\u001B[0m\u001B[0ms\u001B[0m\u001B[0;34m]\u001B[0m\u001B[0;34m,\u001B[0m\u001B[0mres\u001B[0m\u001B[0;34m[\u001B[0m\u001B[0;34m'u'\u001B[0m\u001B[0;34m,\u001B[0m\u001B[0ms\u001B[0m\u001B[0;34m]\u001B[0m\u001B[0;34m,\u001B[0m\u001B[0mp_min\u001B[0m\u001B[0;34m)\u001B[0m\u001B[0;34m\u001B[0m\u001B[0;34m\u001B[0m\u001B[0m\n",
      "\u001B[0;31mNameError\u001B[0m: name 'plt' is not defined"
     ]
    }
   ],
   "source": [
    "fig,ax=plt.subplots(1,1)\n",
    "for s in range(ns):\n",
    "    x_min_min=system(res['x_min',s],res['u',s],p_min)\n",
    "    x_min_max=system(res['x_min',s],res['u',s],p_max)\n",
    "    x_max_min=system(res['x_max',s],res['u',s],p_min)\n",
    "    x_max_max=system(res['x_max',s],res['u',s],p_max)\n",
    "    ax.plot(vertcat(res['x_min',s][0],x_min_min[0]),vertcat(res['x_min',s][1],x_min_min[1]),'y',linewidth=1)\n",
    "    #ax[0].plot(vertcat(res['x_min',s][0],x_min_max[0]),vertcat(res['x_min',s][1],x_min_max[1]))\n",
    "    #ax[0].plot(vertcat(res['x_max',s][0],x_max_min[0]),vertcat(res['x_max',s][1],x_max_min[1]))\n",
    "    ax.plot(vertcat(res['x_max',s][0],x_max_max[0]),vertcat(res['x_max',s][1],x_max_max[1]),'b',linewidth=1)\n",
    "    #ax[1].arrow(x=np.array(res['x_min',s][0])[0][0],y=np.array(res['x_min',s][1])[0][0],dx=np.array(x_min_min[0]-res['x_min',s][0])[0][0],dy=np.array(x_min_min[1]-res['x_min',s][1])[0][0])\n",
    "\n",
    "for s in range(ns):\n",
    "    ax.add_patch(mpl.patches.Rectangle(np.array(res['x_min',s]), np.array(res['x_max',s]-res['x_min',s])[0][0] , np.array(res['x_max',s]-res['x_min',s])[1][0], color=\"None\",ec='grey',hatch='/'))\n",
    "\n",
    "#ax.add_patch(mpl.patches.Rectangle(lb_x, ub_x[0]-lb_x[0],ub_x[1]-lb_x[0], color=\"None\",ec='red'))\n",
    "ax.set_ylabel('x_2')\n",
    "ax.set_xlabel('x_1')"
   ]
  },
  {
   "cell_type": "code",
   "execution_count": null,
   "id": "684f7840",
   "metadata": {},
   "outputs": [],
   "source": []
  }
 ],
 "metadata": {
  "kernelspec": {
   "display_name": "Python 3 (ipykernel)",
   "language": "python",
   "name": "python3"
  },
  "language_info": {
   "codemirror_mode": {
    "name": "ipython",
    "version": 3
   },
   "file_extension": ".py",
   "mimetype": "text/x-python",
   "name": "python",
   "nbconvert_exporter": "python",
   "pygments_lexer": "ipython3",
   "version": "3.7.16"
  },
  "toc": {
   "base_numbering": 1,
   "nav_menu": {
    "height": "291px",
    "width": "500px"
   },
   "number_sections": true,
   "sideBar": true,
   "skip_h1_title": false,
   "title_cell": "Table of Contents",
   "title_sidebar": "Contents",
   "toc_cell": false,
   "toc_position": {},
   "toc_section_display": true,
   "toc_window_display": false
  }
 },
 "nbformat": 4,
 "nbformat_minor": 5
}
